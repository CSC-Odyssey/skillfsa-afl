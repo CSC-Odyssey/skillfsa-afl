{
 "cells": [
  {
   "cell_type": "code",
   "execution_count": 37,
   "metadata": {},
   "outputs": [
    {
     "name": "stdout",
     "output_type": "stream",
     "text": [
      "True\n"
     ]
    }
   ],
   "source": [
    "class Acceptor:\n",
    "    def __init__(self):\n",
    "        self.states = {\"q0\": {\"j\": \"q1\"},\n",
    "                       \"q1\": {\"a\": \"q2\"},\n",
    "                       \"q2\": {\"v\": \"q3\"},\n",
    "                       \"q3\": {\"a\": \"q4\"},\n",
    "                       \"q4\": {\"s\": \"q5\"},\n",
    "                       \"q5\": {\"c\": \"q6\"},\n",
    "                       \"q6\": {\"r\": \"q7\"},\n",
    "                       \"q7\": {\"i\": \"q8\"},\n",
    "                       \"q8\": {\"p\": \"q9\"},\n",
    "                       \"q9\": {\"t\": \"q10\"}}\n",
    "        self.current_state = \"q0\"\n",
    "        self.accept_states = [\"q10\"]\n",
    "        \n",
    "    def reset(self):\n",
    "        self.current_state = \"q0\"\n",
    "        \n",
    "    def feed(self, string):\n",
    "        for char in string:\n",
    "            if char in self.states[self.current_state]:\n",
    "                self.current_state = self.states[self.current_state][char]\n",
    "            else:\n",
    "                self.reset()\n",
    "                return False\n",
    "        if self.current_state in self.accept_states:\n",
    "            self.reset()\n",
    "            return True\n",
    "        else:\n",
    "            self.reset()\n",
    "            return False\n",
    "\n",
    "\n",
    "acceptor = Acceptor()\n",
    "print(acceptor.feed(\"javascript\")) # Output: True"
   ]
  }
 ],
 "metadata": {
  "kernelspec": {
   "display_name": "base",
   "language": "python",
   "name": "python3"
  },
  "language_info": {
   "codemirror_mode": {
    "name": "ipython",
    "version": 3
   },
   "file_extension": ".py",
   "mimetype": "text/x-python",
   "name": "python",
   "nbconvert_exporter": "python",
   "pygments_lexer": "ipython3",
   "version": "3.9.7"
  },
  "orig_nbformat": 4
 },
 "nbformat": 4,
 "nbformat_minor": 2
}
