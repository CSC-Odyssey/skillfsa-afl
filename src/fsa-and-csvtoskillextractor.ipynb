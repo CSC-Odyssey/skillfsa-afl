{
 "cells": [
  {
   "cell_type": "code",
   "execution_count": 1,
   "metadata": {},
   "outputs": [
    {
     "name": "stdout",
     "output_type": "stream",
     "text": [
      "Developer Skills extracted from Donroy_Kevin.pdf: {'html', 'sql', 'javascript', 'java'}\n",
      "Developer Skills extracted from Jordan_Michael.pdf: {'html', 'javascript', 'css'}\n"
     ]
    }
   ],
   "source": [
    "import pandas as pd\n",
    "\n",
    "# Read the CSV file\n",
    "df = pd.read_csv('../csv/resume_data.csv')\n",
    "\n",
    "# Skills related to developers\n",
    "developer_skills = set(['python', 'java', 'c++', 'javascript', 'html', 'css', 'sql'])\n",
    "\n",
    "# library of skills analng siguro dito\n",
    "other_skills = set(['java', 'python', 'javascript', 'c++', 'ruby', 'php', 'swift', 'kotlin', 'sql', 'html/css', 'react', 'angular', 'node.js', 'django', 'flask', 'ruby on rails', 'git', 'docker', 'aws', 'microsoft azure', 'typescript', 'rust', 'go', 'scala', 'haskell', 'matlab', 'assembly language', 'bash scripting', 'graphql', 'vue.js', 'ember.js', 'jquery', '.net framework', 'spring framework', 'laravel', 'postgresql', 'mongodb', 'redis', 'apache kafka'])\n",
    "\n",
    "for index, row in df.iterrows():\n",
    "    content = row['contents']\n",
    "    skills = set()\n",
    "    for word in content.split():\n",
    "        if word.lower() in developer_skills:\n",
    "            skills.add(word.lower())\n",
    "    column_name = 'pdf_file_name'  # replace with the name of the desired column\n",
    "    # Show their Developer Skills if any found\n",
    "    if skills:\n",
    "        print(\"Developer Skills extracted from {}: {}\".format(row[column_name], skills))\n",
    "    else:\n",
    "        print(\"Developer Skills not found in {}\".format(row[column_name]))"
   ]
  },
  {
   "cell_type": "code",
   "execution_count": 5,
   "metadata": {},
   "outputs": [
    {
     "data": {
      "text/html": [
       "<div>\n",
       "<style scoped>\n",
       "    .dataframe tbody tr th:only-of-type {\n",
       "        vertical-align: middle;\n",
       "    }\n",
       "\n",
       "    .dataframe tbody tr th {\n",
       "        vertical-align: top;\n",
       "    }\n",
       "\n",
       "    .dataframe thead th {\n",
       "        text-align: right;\n",
       "    }\n",
       "</style>\n",
       "<table border=\"1\" class=\"dataframe\">\n",
       "  <thead>\n",
       "    <tr style=\"text-align: right;\">\n",
       "      <th></th>\n",
       "      <th>Unnamed: 0</th>\n",
       "      <th>pdf_file_name</th>\n",
       "      <th>contents</th>\n",
       "      <th>Developer_Skills</th>\n",
       "    </tr>\n",
       "  </thead>\n",
       "  <tbody>\n",
       "    <tr>\n",
       "      <th>0</th>\n",
       "      <td>0</td>\n",
       "      <td>Donroy_Kevin.pdf</td>\n",
       "      <td>1 KEVIN CONROY PROGRAMMING LANGUAGES Java Java...</td>\n",
       "      <td>{java, javascript, html, sql}</td>\n",
       "    </tr>\n",
       "    <tr>\n",
       "      <th>1</th>\n",
       "      <td>1</td>\n",
       "      <td>Jordan_Michael.pdf</td>\n",
       "      <td>Michael A Jordan 16 Old Colony Road Hingham Ma...</td>\n",
       "      <td>{javascript, html, css}</td>\n",
       "    </tr>\n",
       "  </tbody>\n",
       "</table>\n",
       "</div>"
      ],
      "text/plain": [
       "   Unnamed: 0       pdf_file_name  \\\n",
       "0           0    Donroy_Kevin.pdf   \n",
       "1           1  Jordan_Michael.pdf   \n",
       "\n",
       "                                            contents  \\\n",
       "0  1 KEVIN CONROY PROGRAMMING LANGUAGES Java Java...   \n",
       "1  Michael A Jordan 16 Old Colony Road Hingham Ma...   \n",
       "\n",
       "                Developer_Skills  \n",
       "0  {java, javascript, html, sql}  \n",
       "1        {javascript, html, css}  "
      ]
     },
     "execution_count": 5,
     "metadata": {},
     "output_type": "execute_result"
    }
   ],
   "source": [
    "# Define a function to extract skills from the contents column\n",
    "def extract_skills(contents):\n",
    "    skills = set()\n",
    "    for word in contents.split():\n",
    "        if word.lower() in developer_skills:\n",
    "            skills.add(word.lower())\n",
    "    return skills\n",
    "\n",
    "# Add a new column to the dataframe with the extracted skills\n",
    "df['Developer_Skills'] = df['contents'].apply(extract_skills)\n",
    "\n",
    "# Print the updated dataframe\n",
    "df"
   ]
  },
  {
   "cell_type": "code",
   "execution_count": 8,
   "metadata": {},
   "outputs": [
    {
     "name": "stdout",
     "output_type": "stream",
     "text": [
      "Accepted: Donroy_Kevin.pdf, Developer Skills: {'java', 'javascript', 'html', 'sql'}\n",
      "Accepted: Jordan_Michael.pdf, Developer Skills: {'javascript', 'html', 'css'}\n"
     ]
    }
   ],
   "source": [
    "# Define the FSA\n",
    "current_state = 'start'\n",
    "accept_states = {'q1', 'q2', 'q3'}\n",
    "reject_state = 'reject'\n",
    "\n",
    "# Process each row in the CSV file\n",
    "for index, row in df.iterrows():\n",
    "    # Get the contents of the row\n",
    "    contents = row['contents']\n",
    "    # Process each word in the contents\n",
    "    developer_skills_found = set()\n",
    "    for word in contents.split():\n",
    "        # Check if the word is in the developer skills set\n",
    "        if word.lower() in developer_skills:\n",
    "            developer_skills_found.add(word.lower())\n",
    "            # Transition to the next state\n",
    "            if current_state == 'start':\n",
    "                current_state = 'q0'\n",
    "            elif current_state == 'q0':\n",
    "                current_state = 'q1'\n",
    "            elif current_state == 'q1':\n",
    "                current_state = 'q2'\n",
    "            elif current_state == 'q2':\n",
    "                current_state = 'q3'\n",
    "    # Check if the current state is an accept state or the reject state\n",
    "    if current_state in accept_states and len(developer_skills_found):\n",
    "        print(\"Accepted: {}, Developer Skills: {}\".format(row['pdf_file_name'], developer_skills_found))\n",
    "    else:\n",
    "        print(\"Rejected: \", row['pdf_file_name'])\n",
    "    # Reset the current state for the next row\n",
    "    current_state = 'start'"
   ]
  }
 ],
 "metadata": {
  "kernelspec": {
   "display_name": "base",
   "language": "python",
   "name": "python3"
  },
  "language_info": {
   "codemirror_mode": {
    "name": "ipython",
    "version": 3
   },
   "file_extension": ".py",
   "mimetype": "text/x-python",
   "name": "python",
   "nbconvert_exporter": "python",
   "pygments_lexer": "ipython3",
   "version": "3.9.7"
  },
  "orig_nbformat": 4
 },
 "nbformat": 4,
 "nbformat_minor": 2
}
